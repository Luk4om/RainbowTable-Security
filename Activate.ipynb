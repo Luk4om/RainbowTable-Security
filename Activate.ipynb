{
 "cells": [
  {
   "cell_type": "code",
   "execution_count": 2,
   "metadata": {},
   "outputs": [
    {
     "name": "stdout",
     "output_type": "stream",
     "text": [
      "The original value for hash d54cc1fe76f5186380a0939d2fc1723c44e8a5f7 is: kenw00d\n"
     ]
    }
   ],
   "source": [
    "import hashlib\n",
    "\n",
    "# Dictionary for character substitutions\n",
    "substitution_dict = {\n",
    "    'o': '0',\n",
    "    'l': '1',\n",
    "    'i': '1',\n",
    "}\n",
    "\n",
    "def apply_substitutions(text):\n",
    "    \"\"\"Apply substitutions based on the dictionary.\"\"\"\n",
    "    for key, value in substitution_dict.items():\n",
    "        text = text.replace(key, value)\n",
    "    return text\n",
    "\n",
    "def find_original_value(hash_to_find, password_file):\n",
    "    \"\"\"Find the original value of the hash using the passwords in the file.\"\"\"\n",
    "    with open(password_file, 'r') as file:\n",
    "        passwords = [line.strip() for line in file]\n",
    "\n",
    "    max_match_count = 0\n",
    "    best_match = None\n",
    "\n",
    "    for password in passwords:\n",
    "        original_password = apply_substitutions(password)\n",
    "        hashed_password = hashlib.sha1(original_password.encode()).hexdigest()\n",
    "\n",
    "        match_count = sum(1 for a, b in zip(hashed_password, hash_to_find) if a == b)\n",
    "\n",
    "        if match_count > max_match_count:\n",
    "            max_match_count = match_count\n",
    "            best_match = original_password\n",
    "\n",
    "    return best_match\n",
    "\n",
    "# File containing common passwords\n",
    "password_file = '10k-most-common.txt'\n",
    "\n",
    "# Hash to find\n",
    "hash_to_find = 'd54cc1fe76f5186380a0939d2fc1723c44e8a5f7'\n",
    "\n",
    "# Find the original value\n",
    "result = find_original_value(hash_to_find, password_file)\n",
    "\n",
    "if result:\n",
    "    print(f\"The original value for hash {hash_to_find} is: {result}\")\n",
    "else:\n",
    "    print(f\"No match found for hash {hash_to_find} in the password file.\")\n"
   ]
  },
  {
   "cell_type": "code",
   "execution_count": 6,
   "metadata": {},
   "outputs": [
    {
     "ename": "FileNotFoundError",
     "evalue": "[Errno 2] No such file or directory: 'common_passwords.txt'",
     "output_type": "error",
     "traceback": [
      "\u001b[1;31m---------------------------------------------------------------------------\u001b[0m",
      "\u001b[1;31mFileNotFoundError\u001b[0m                         Traceback (most recent call last)",
      "\u001b[1;32mc:\\Users\\HP\\Desktop\\Security\\Exercises1.ipynb Cell 2\u001b[0m line \u001b[0;36m4\n\u001b[0;32m     <a href='vscode-notebook-cell:/c%3A/Users/HP/Desktop/Security/Exercises1.ipynb#W2sZmlsZQ%3D%3D?line=39'>40</a>\u001b[0m hash_to_find \u001b[39m=\u001b[39m \u001b[39m'\u001b[39m\u001b[39md54cc1fe76f5186380a0939d2fc1723c44e8a5f7\u001b[39m\u001b[39m'\u001b[39m\n\u001b[0;32m     <a href='vscode-notebook-cell:/c%3A/Users/HP/Desktop/Security/Exercises1.ipynb#W2sZmlsZQ%3D%3D?line=41'>42</a>\u001b[0m \u001b[39m# Find the original value\u001b[39;00m\n\u001b[1;32m---> <a href='vscode-notebook-cell:/c%3A/Users/HP/Desktop/Security/Exercises1.ipynb#W2sZmlsZQ%3D%3D?line=42'>43</a>\u001b[0m result \u001b[39m=\u001b[39m find_original_value(hash_to_find, password_file)\n\u001b[0;32m     <a href='vscode-notebook-cell:/c%3A/Users/HP/Desktop/Security/Exercises1.ipynb#W2sZmlsZQ%3D%3D?line=44'>45</a>\u001b[0m \u001b[39mif\u001b[39;00m result:\n\u001b[0;32m     <a href='vscode-notebook-cell:/c%3A/Users/HP/Desktop/Security/Exercises1.ipynb#W2sZmlsZQ%3D%3D?line=45'>46</a>\u001b[0m     \u001b[39mprint\u001b[39m(\u001b[39mf\u001b[39m\u001b[39m\"\u001b[39m\u001b[39mThe original value for hash \u001b[39m\u001b[39m{\u001b[39;00mhash_to_find\u001b[39m}\u001b[39;00m\u001b[39m is: \u001b[39m\u001b[39m{\u001b[39;00mresult\u001b[39m}\u001b[39;00m\u001b[39m\"\u001b[39m)\n",
      "\u001b[1;32mc:\\Users\\HP\\Desktop\\Security\\Exercises1.ipynb Cell 2\u001b[0m line \u001b[0;36m1\n\u001b[0;32m     <a href='vscode-notebook-cell:/c%3A/Users/HP/Desktop/Security/Exercises1.ipynb#W2sZmlsZQ%3D%3D?line=15'>16</a>\u001b[0m \u001b[39mdef\u001b[39;00m \u001b[39mfind_original_value\u001b[39m(hash_to_find, password_file):\n\u001b[0;32m     <a href='vscode-notebook-cell:/c%3A/Users/HP/Desktop/Security/Exercises1.ipynb#W2sZmlsZQ%3D%3D?line=16'>17</a>\u001b[0m \u001b[39m    \u001b[39m\u001b[39m\"\"\"Find the original value of the hash using the passwords in the file.\"\"\"\u001b[39;00m\n\u001b[1;32m---> <a href='vscode-notebook-cell:/c%3A/Users/HP/Desktop/Security/Exercises1.ipynb#W2sZmlsZQ%3D%3D?line=17'>18</a>\u001b[0m     \u001b[39mwith\u001b[39;00m \u001b[39mopen\u001b[39;49m(password_file, \u001b[39m'\u001b[39;49m\u001b[39mr\u001b[39;49m\u001b[39m'\u001b[39;49m) \u001b[39mas\u001b[39;00m file:\n\u001b[0;32m     <a href='vscode-notebook-cell:/c%3A/Users/HP/Desktop/Security/Exercises1.ipynb#W2sZmlsZQ%3D%3D?line=18'>19</a>\u001b[0m         passwords \u001b[39m=\u001b[39m [line\u001b[39m.\u001b[39mstrip() \u001b[39mfor\u001b[39;00m line \u001b[39min\u001b[39;00m file]\n\u001b[0;32m     <a href='vscode-notebook-cell:/c%3A/Users/HP/Desktop/Security/Exercises1.ipynb#W2sZmlsZQ%3D%3D?line=20'>21</a>\u001b[0m     max_match_count \u001b[39m=\u001b[39m \u001b[39m0\u001b[39m\n",
      "File \u001b[1;32m~\\AppData\\Roaming\\Python\\Python311\\site-packages\\IPython\\core\\interactiveshell.py:286\u001b[0m, in \u001b[0;36m_modified_open\u001b[1;34m(file, *args, **kwargs)\u001b[0m\n\u001b[0;32m    279\u001b[0m \u001b[39mif\u001b[39;00m file \u001b[39min\u001b[39;00m {\u001b[39m0\u001b[39m, \u001b[39m1\u001b[39m, \u001b[39m2\u001b[39m}:\n\u001b[0;32m    280\u001b[0m     \u001b[39mraise\u001b[39;00m \u001b[39mValueError\u001b[39;00m(\n\u001b[0;32m    281\u001b[0m         \u001b[39mf\u001b[39m\u001b[39m\"\u001b[39m\u001b[39mIPython won\u001b[39m\u001b[39m'\u001b[39m\u001b[39mt let you open fd=\u001b[39m\u001b[39m{\u001b[39;00mfile\u001b[39m}\u001b[39;00m\u001b[39m by default \u001b[39m\u001b[39m\"\u001b[39m\n\u001b[0;32m    282\u001b[0m         \u001b[39m\"\u001b[39m\u001b[39mas it is likely to crash IPython. If you know what you are doing, \u001b[39m\u001b[39m\"\u001b[39m\n\u001b[0;32m    283\u001b[0m         \u001b[39m\"\u001b[39m\u001b[39myou can use builtins\u001b[39m\u001b[39m'\u001b[39m\u001b[39m open.\u001b[39m\u001b[39m\"\u001b[39m\n\u001b[0;32m    284\u001b[0m     )\n\u001b[1;32m--> 286\u001b[0m \u001b[39mreturn\u001b[39;00m io_open(file, \u001b[39m*\u001b[39;49margs, \u001b[39m*\u001b[39;49m\u001b[39m*\u001b[39;49mkwargs)\n",
      "\u001b[1;31mFileNotFoundError\u001b[0m: [Errno 2] No such file or directory: 'common_passwords.txt'"
     ]
    }
   ],
   "source": [
    "import hashlib\n",
    "\n",
    "# Dictionary for character substitutions\n",
    "substitution_dict = {\n",
    "    'o': '0',\n",
    "    'l': '1',\n",
    "    'i': '1',\n",
    "}\n",
    "\n",
    "def apply_substitutions(text):\n",
    "    \"\"\"Apply substitutions based on the dictionary.\"\"\"\n",
    "    for key, value in substitution_dict.items():\n",
    "        text = text.replace(key, value)\n",
    "    return text\n",
    "\n",
    "def find_original_value(hash_to_find, password_file):\n",
    "    \"\"\"Find the original value of the hash using the passwords in the file.\"\"\"\n",
    "    with open(password_file, 'r') as file:\n",
    "        passwords = [line.strip() for line in file]\n",
    "\n",
    "    max_match_count = 0\n",
    "    best_match = None\n",
    "\n",
    "    for password in passwords:\n",
    "        original_password = apply_substitutions(password)\n",
    "        hashed_password = hashlib.sha1(original_password.encode()).hexdigest()\n",
    "\n",
    "        match_count = sum(1 for a, b in zip(hashed_password, hash_to_find) if a == b)\n",
    "\n",
    "        if match_count > max_match_count:\n",
    "            max_match_count = match_count\n",
    "            best_match = original_password\n",
    "\n",
    "    return best_match\n",
    "\n",
    "# File containing common passwords\n",
    "password_file = '10k-most-common.txt'\n",
    "\n",
    "# Hash to find\n",
    "hash_to_find = 'd54cc1fe76f5186380a0939d2fc1723c44e8a5f7'\n",
    "\n",
    "# Find the original value\n",
    "result = find_original_value(hash_to_find, password_file)\n",
    "\n",
    "if result:\n",
    "    print(f\"The original value for hash {hash_to_find} is: {result}\")\n",
    "else:\n",
    "    print(f\"No match found for hash {hash_to_find} in the password file.\")\n"
   ]
  }
 ],
 "metadata": {
  "kernelspec": {
   "display_name": "Python 3",
   "language": "python",
   "name": "python3"
  },
  "language_info": {
   "codemirror_mode": {
    "name": "ipython",
    "version": 3
   },
   "file_extension": ".py",
   "mimetype": "text/x-python",
   "name": "python",
   "nbconvert_exporter": "python",
   "pygments_lexer": "ipython3",
   "version": "3.11.4"
  }
 },
 "nbformat": 4,
 "nbformat_minor": 2
}
